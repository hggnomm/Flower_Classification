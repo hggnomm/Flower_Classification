{
 "cells": [
  {
   "cell_type": "code",
   "execution_count": 10,
   "id": "f8241a4e-0ee8-4d31-b24b-038e3ae58465",
   "metadata": {},
   "outputs": [],
   "source": [
    "#Importing libraries\n",
    "import os\n",
    "import numpy as np\n",
    "\n",
    "import tensorflow as tf\n",
    "from tensorflow.keras import layers\n",
    "from tensorflow.keras.preprocessing.image import load_img, ImageDataGenerator\n",
    "from tensorflow.keras.models import Sequential, load_model\n",
    "from tensorflow.keras.layers import Conv2D, MaxPool2D, Dense, Dropout, Flatten"
   ]
  },
  {
   "cell_type": "code",
   "execution_count": 11,
   "id": "5b65c84f-f0a8-4012-91bd-e7427d4eb8f3",
   "metadata": {},
   "outputs": [
    {
     "name": "stdout",
     "output_type": "stream",
     "text": [
      "daisy Folder has 764 Images\n",
      "dandelion Folder has 1052 Images\n",
      "rose Folder has 784 Images\n",
      "sunflower Folder has 733 Images\n",
      "tulip Folder has 984 Images\n"
     ]
    }
   ],
   "source": [
    "#Fetch Images count from Folders\n",
    "dirs = os.listdir('flowers/')\n",
    "# print(os.listdir('flowers/'))\n",
    "# --> result: ['daisy', 'dandelion', 'rose', 'sunflower', 'tulip']\n",
    "for dir in dirs:\n",
    "    files = list(os.listdir('flowers/' + dir))\n",
    "    print( dir + ' Folder has ' + str(len(files)) + ' Images')"
   ]
  }
 ],
 "metadata": {
  "kernelspec": {
   "display_name": "Python 3",
   "language": "python",
   "name": "python3"
  },
  "language_info": {
   "codemirror_mode": {
    "name": "ipython",
    "version": 3
   },
   "file_extension": ".py",
   "mimetype": "text/x-python",
   "name": "python",
   "nbconvert_exporter": "python",
   "pygments_lexer": "ipython3",
   "version": "3.11.0"
  }
 },
 "nbformat": 4,
 "nbformat_minor": 5
}
